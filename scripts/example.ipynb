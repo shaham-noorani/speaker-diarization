{
 "cells": [
  {
   "cell_type": "code",
   "execution_count": 1,
   "metadata": {},
   "outputs": [],
   "source": [
    "## Setup\n",
    "\n",
    "import dotenv\n",
    "import os\n",
    "\n",
    "dotenv.load_dotenv()\n",
    "\n",
    "import assemblyai as aai\n",
    "aai.settings.api_key = os.environ.get(\"ASSEMBLY_AI_KEY\")\n",
    "\n",
    "audio_url = \"https://togethertechaudio.s3.amazonaws.com/musk_interview.wav\"\n",
    "\n",
    "config = aai.TranscriptionConfig(\n",
    "    speaker_labels=True, speakers_expected=2, disfluencies=False, audio_start_from=0, audio_end_at=300000\n",
    ")\n",
    "\n",
    "transcript = aai.Transcriber().transcribe(audio_url, config)\n"
   ]
  },
  {
   "cell_type": "code",
   "execution_count": 2,
   "metadata": {},
   "outputs": [
    {
     "name": "stdout",
     "output_type": "stream",
     "text": [
      "Speaker A: Today we have Elon Musk. Elon, thank you for joining us.\n",
      "Speaker B: Yeah, thanks for having me.\n",
      "Speaker A: So we want to spend the time today talking about your view of the future and what people should work on. So, to start off, could you tell us, you famously said when you were younger, there were five problems that you thought were most important for you to work on. If you were 22 today, what would the five problems that you would think about working on be?\n",
      "Speaker B: Well, first of all, I think if somebody is doing something that is useful to the rest of society, I think that's a good thing. It doesn't have to change the world if you're doing something that has high value to people. And frankly, even if it's something, if it's like just a little game or some improvement in photo sharing or something, if it has a small amount of good for a large number of people, I think that's fine. Stuff doesn't need to be changed, the world just to be good. But in terms of things that I think are most likely to affect the future of humanity, I think AI is probably the single biggest item in the near term that's likely to affect humanity. So it's very important that we have the advent of AI in a good way. That is something that if you could look into the crystal ball and see the future, you would like that outcome, because it is something that could go wrong, as we've talked about many times. And so we really need to make sure it goes right. I think AI, working on AI and making sure it's great future, that's the most important thing, I think, right now. The most pressing item, then, obviously, anything to do with. With genetics, if you can actually solve genetic diseases, if you can ferment dementia or Alzheimer's or something like that, with genetic reprogramming, that would be wonderful. So I think there's. Genetics might be the sort of second most important item, I think, having a high bandwidth interface to the brain, we're currently bandwidth limited. We have a digital tertiary self in the form of our email capabilities. Our computers, phones, applications, we're effectively superhuman, but we are extremely bandwidth constraint in that interface between the cortex and that tertiary digital form of yourself. And helping solve that bandwidth constraint would be, I think, very important for the future as well.\n",
      "Speaker A: So one of the, I think, most common questions I hear ambitious young people ask is, I want to be the next Elon Musk. How do I do that? Obviously, the next Elon Musk will work on very different things than you did. But what have you done? Or what did you do when you were younger that you think sort of set you up to have a big impact?\n"
     ]
    }
   ],
   "source": [
    "# print first 5 lines so students can identify speakers\n",
    "count = 0\n",
    "for utterance in transcript.utterances:\n",
    "    print(f\"Speaker {utterance.speaker}: {utterance.text}\")\n",
    "    count += 1\n",
    "    if count == 5:\n",
    "        break"
   ]
  },
  {
   "cell_type": "code",
   "execution_count": 3,
   "metadata": {},
   "outputs": [],
   "source": [
    "# students = input(\"Which speakers are students? (separate by comma) \").split(\", \")\n",
    "students = [\"A\"]"
   ]
  },
  {
   "cell_type": "code",
   "execution_count": 4,
   "metadata": {},
   "outputs": [
    {
     "data": {
      "text/plain": [
       "[{'speaker': 'Student (Speaker A)',\n",
       "  'start': 330,\n",
       "  'end': 2814,\n",
       "  'caption': 'Today we have Elon Musk. Elon, thank you for joining us.'},\n",
       " {'speaker': 'Interviewee (Speaker B)',\n",
       "  'start': 2852,\n",
       "  'end': 3918,\n",
       "  'caption': 'Yeah, thanks for having me.'},\n",
       " {'speaker': 'Student (Speaker A)',\n",
       "  'start': 4004,\n",
       "  'end': 22654,\n",
       "  'caption': 'So we want to spend the time today talking about your view of the future and what people should work on. So, to start off, could you tell us, you famously said when you were younger, there were five problems that you thought were most important for you to work on. If you were 22 today, what would the five problems that you would think about working on be?'},\n",
       " {'speaker': 'Interviewee (Speaker B)',\n",
       "  'start': 22852,\n",
       "  'end': 167314,\n",
       "  'caption': \"Well, first of all, I think if somebody is doing something that is useful to the rest of society, I think that's a good thing. It doesn't have to change the world if you're doing something that has high value to people. And frankly, even if it's something, if it's like just a little game or some improvement in photo sharing or something, if it has a small amount of good for a large number of people, I think that's fine. Stuff doesn't need to be changed, the world just to be good. But in terms of things that I think are most likely to affect the future of humanity, I think AI is probably the single biggest item in the near term that's likely to affect humanity. So it's very important that we have the advent of AI in a good way. That is something that if you could look into the crystal ball and see the future, you would like that outcome, because it is something that could go wrong, as we've talked about many times. And so we really need to make sure it goes right. I think AI, working on AI and making sure it's great future, that's the most important thing, I think, right now. The most pressing item, then, obviously, anything to do with. With genetics, if you can actually solve genetic diseases, if you can ferment dementia or Alzheimer's or something like that, with genetic reprogramming, that would be wonderful. So I think there's. Genetics might be the sort of second most important item, I think, having a high bandwidth interface to the brain, we're currently bandwidth limited. We have a digital tertiary self in the form of our email capabilities. Our computers, phones, applications, we're effectively superhuman, but we are extremely bandwidth constraint in that interface between the cortex and that tertiary digital form of yourself. And helping solve that bandwidth constraint would be, I think, very important for the future as well.\"},\n",
       " {'speaker': 'Student (Speaker A)',\n",
       "  'start': 167432,\n",
       "  'end': 188230,\n",
       "  'caption': 'So one of the, I think, most common questions I hear ambitious young people ask is, I want to be the next Elon Musk. How do I do that? Obviously, the next Elon Musk will work on very different things than you did. But what have you done? Or what did you do when you were younger that you think sort of set you up to have a big impact?'},\n",
       " {'speaker': 'Interviewee (Speaker B)',\n",
       "  'start': 188810,\n",
       "  'end': 296818,\n",
       "  'caption': \"Well, I think first of all, I should say that I did not expect to be involved in all these things. So the five things that I thought about the time in college, quite a long time ago, 25 years ago, making life multiplanetary, accelerating the transition to sustainable energy, the Internet, broadly speaking, and then genetics and AI, I think I didn't expect to be involved in all of those things at the time. In college, I sort of thought helping with electrification of cars was how I would start out. And that's actually what I worked on as an intern, was advanced ultra capacitors to see if there would be a breakthrough relative to batteries for energy storage in cars. And then when I came out to go to Stanford, that's what I was going to be doing my grad studies on, was working on advanced energy storage technologies for electric cars. And then I put that on hold to start an Internet company in 95, because there does seem to be like a time for particular technologies when they're at a steep point in the inflection curve. And I didn't want to do a PhD at Stanford and watch it all happen, and I wasn't entirely certain that the technology I'd be working on would actually succeed. You can get a doctorate on many things that ultimately do not have a practical bearing on the world. And I really was just trying to be useful. That's the optimization. What can I do that would actually be useful?\"},\n",
       " {'speaker': 'Student (Speaker A)',\n",
       "  'start': 296994,\n",
       "  'end': 299890,\n",
       "  'caption': 'Do you think people that want to be useful today should get PhDs?'}]"
      ]
     },
     "execution_count": 4,
     "metadata": {},
     "output_type": "execute_result"
    }
   ],
   "source": [
    "output = []\n",
    "for utterance in transcript.utterances:\n",
    "    speaker = \"Student\" if utterance.speaker in students else \"Interviewee\"\n",
    "    speaker += f\" (Speaker {utterance.speaker})\"\n",
    "\n",
    "    output.append(\n",
    "        {\n",
    "            \"speaker\": speaker,\n",
    "            \"start\": utterance.start,\n",
    "            \"end\": utterance.end,\n",
    "            \"caption\": utterance.text,\n",
    "        }\n",
    "    )\n",
    "\n",
    "output"
   ]
  },
  {
   "cell_type": "code",
   "execution_count": null,
   "metadata": {},
   "outputs": [],
   "source": []
  }
 ],
 "metadata": {
  "kernelspec": {
   "display_name": ".venv",
   "language": "python",
   "name": "python3"
  },
  "language_info": {
   "codemirror_mode": {
    "name": "ipython",
    "version": 3
   },
   "file_extension": ".py",
   "mimetype": "text/x-python",
   "name": "python",
   "nbconvert_exporter": "python",
   "pygments_lexer": "ipython3",
   "version": "3.11.0"
  }
 },
 "nbformat": 4,
 "nbformat_minor": 2
}
